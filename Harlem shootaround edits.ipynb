{
 "cells": [
  {
   "cell_type": "code",
   "execution_count": 1,
   "id": "00a676ff-9bc7-4425-a39b-68ddf2fd7a65",
   "metadata": {},
   "outputs": [
    {
     "name": "stdout",
     "output_type": "stream",
     "text": [
      "Requirement already satisfied: matplotlib in /opt/anaconda3/lib/python3.12/site-packages (3.9.2)\n",
      "Requirement already satisfied: contourpy>=1.0.1 in /opt/anaconda3/lib/python3.12/site-packages (from matplotlib) (1.2.0)\n",
      "Requirement already satisfied: cycler>=0.10 in /opt/anaconda3/lib/python3.12/site-packages (from matplotlib) (0.11.0)\n",
      "Requirement already satisfied: fonttools>=4.22.0 in /opt/anaconda3/lib/python3.12/site-packages (from matplotlib) (4.51.0)\n",
      "Requirement already satisfied: kiwisolver>=1.3.1 in /opt/anaconda3/lib/python3.12/site-packages (from matplotlib) (1.4.4)\n",
      "Requirement already satisfied: numpy>=1.23 in /opt/anaconda3/lib/python3.12/site-packages (from matplotlib) (1.26.4)\n",
      "Requirement already satisfied: packaging>=20.0 in /opt/anaconda3/lib/python3.12/site-packages (from matplotlib) (24.1)\n",
      "Requirement already satisfied: pillow>=8 in /opt/anaconda3/lib/python3.12/site-packages (from matplotlib) (10.4.0)\n",
      "Requirement already satisfied: pyparsing>=2.3.1 in /opt/anaconda3/lib/python3.12/site-packages (from matplotlib) (3.1.2)\n",
      "Requirement already satisfied: python-dateutil>=2.7 in /opt/anaconda3/lib/python3.12/site-packages (from matplotlib) (2.9.0.post0)\n",
      "Requirement already satisfied: six>=1.5 in /opt/anaconda3/lib/python3.12/site-packages (from python-dateutil>=2.7->matplotlib) (1.16.0)\n",
      "Note: you may need to restart the kernel to use updated packages.\n"
     ]
    }
   ],
   "source": [
    "pip install matplotlib"
   ]
  },
  {
   "cell_type": "code",
   "execution_count": 4,
   "id": "6075aaa6-642e-4736-a62a-d6e415ead0df",
   "metadata": {},
   "outputs": [
    {
     "name": "stdout",
     "output_type": "stream",
     "text": [
      "THIS IS HARLEM SHOOTAROUND!\n",
      "You have 5 shots to score as many points as possible.\n",
      "Each shot is worth 0, 2, or 3 points.\n",
      "\n",
      "Shot #1:\n"
     ]
    },
    {
     "name": "stdin",
     "output_type": "stream",
     "text": [
      "Are you shooting a 2-pointer or from deep? (Type '2' or '3'):  3\n"
     ]
    },
    {
     "name": "stdout",
     "output_type": "stream",
     "text": [
      "Swish! You scored 3 points!\n",
      "\n",
      "Shot #2:\n"
     ]
    },
    {
     "name": "stdin",
     "output_type": "stream",
     "text": [
      "Are you shooting a 2-pointer or from deep? (Type '2' or '3'):  2\n"
     ]
    },
    {
     "name": "stdout",
     "output_type": "stream",
     "text": [
      "Swish! You scored 2 points!\n",
      "\n",
      "Shot #3:\n"
     ]
    },
    {
     "name": "stdin",
     "output_type": "stream",
     "text": [
      "Are you shooting a 2-pointer or from deep? (Type '2' or '3'):  2\n"
     ]
    },
    {
     "name": "stdout",
     "output_type": "stream",
     "text": [
      "Swish! You scored 2 points!\n",
      "\n",
      "Shot #4:\n"
     ]
    },
    {
     "name": "stdin",
     "output_type": "stream",
     "text": [
      "Are you shooting a 2-pointer or from deep? (Type '2' or '3'):  3\n"
     ]
    },
    {
     "name": "stdout",
     "output_type": "stream",
     "text": [
      "Swish! You scored 3 points!\n",
      "\n",
      "Shot #5:\n"
     ]
    },
    {
     "name": "stdin",
     "output_type": "stream",
     "text": [
      "Are you shooting a 2-pointer or from deep? (Type '2' or '3'):  2\n"
     ]
    },
    {
     "name": "stdout",
     "output_type": "stream",
     "text": [
      "BRICK 🧱\n",
      "\n",
      "Game over! Your total score is 10 points.\n",
      "Wow, you're a basketball superstar! 🏀🔥\n",
      "\n",
      "Field Goal Percentage: 80.0% (4/5)\n"
     ]
    },
    {
     "data": {
      "image/png": "[encoded data removed]",
      "text/plain": [
       "<Figure size 600x400 with 1 Axes>"
      ]
     },
     "metadata": {},
     "output_type": "display_data"
    }
   ],
   "source": [
    "import random\n",
    "import matplotlib.pyplot as plt\n",
    "\n",
    "def shoot_hoop():\n",
    "    print(\"THIS IS HARLEM SHOOTAROUND!\")\n",
    "    print(\"You have 5 shots to score as many points as possible.\")\n",
    "    print(\"Each shot is worth 0, 2, or 3 points.\\n\")\n",
    "    \n",
    "    total_score = 0\n",
    "    shots_made = 0\n",
    "    shots_attempted = 0\n",
    "    \n",
    "    for shot in range(1, 6):\n",
    "        print(f\"Shot #{shot}:\")\n",
    "        distance = input(\"Are you shooting a 2-pointer or from deep? (Type '2' or '3'): \")\n",
    "        \n",
    "        if distance not in ['2', '3']:\n",
    "            print(\"Invalid input! You lose this shot.\\n\")\n",
    "            continue\n",
    "        \n",
    "        shots_attempted += 1\n",
    "        # Simulate the shot (50% chance to make it)\n",
    "        made_shot = random.choice([True, False])\n",
    "        \n",
    "        if made_shot:\n",
    "            points = int(distance)\n",
    "            total_score += points\n",
    "            shots_made += 1\n",
    "            print(f\"Swish! You scored {points} points!\\n\")\n",
    "        else:\n",
    "            print(\"BRICK 🧱\\n\")\n",
    "    \n",
    "    print(f\"Game over! Your total score is {total_score} points.\")\n",
    "    \n",
    "    # Calculate field goal percentage\n",
    "    fg_percentage = (shots_made / shots_attempted * 100) if shots_attempted > 0 else 0\n",
    "    \n",
    "    # Bonus message based on score\n",
    "    if total_score >= 10:\n",
    "        print(\"Wow, you're a basketball superstar! 🏀🔥\")\n",
    "    elif total_score >= 5:\n",
    "        print(\"I can't lie... you are COLD! You could build a house with all those bricks! 🏚️🧱🧱\")\n",
    "    else:\n",
    "        print(\"Better luck next time! 🏀\")\n",
    "    \n",
    "    # Create bar graph\n",
    "    plt.figure(figsize=(6, 4))\n",
    "    plt.bar(['Field Goal %'], [fg_percentage], color='blue')\n",
    "    plt.ylim(0, 100)  # Percentage scale: 0-100%\n",
    "    plt.title('Shooting Statistics')\n",
    "    plt.ylabel('Percentage (%)')\n",
    "    plt.text(0, fg_percentage + 2, f'{fg_percentage:.1f}%', \n",
    "             ha='center', va='bottom')\n",
    "    print(f\"\\nField Goal Percentage: {fg_percentage:.1f}% ({shots_made}/{shots_attempted})\")\n",
    "    plt.show()\n",
    "\n",
    "# Run the game\n",
    "shoot_hoop()"
   ]
  },
  {
   "cell_type": "code",
   "execution_count": null,
   "id": "de2f1abd-8e76-43b8-841c-99dcb4d2f500",
   "metadata": {},
   "outputs": [],
   "source": []
  }
 ],
 "metadata": {
  "kernelspec": {
   "display_name": "Python 3 (ipykernel)",
   "language": "python",
   "name": "python3"
  },
  "language_info": {
   "codemirror_mode": {
    "name": "ipython",
    "version": 3
   },
   "file_extension": ".py",
   "mimetype": "text/x-python",
   "name": "python",
   "nbconvert_exporter": "python",
   "pygments_lexer": "ipython3",
   "version": "3.12.7"
  }
 },
 "nbformat": 4,
 "nbformat_minor": 5
}
