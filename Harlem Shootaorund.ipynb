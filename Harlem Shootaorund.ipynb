{
 "cells": [
  {
   "cell_type": "code",
   "execution_count": 1,
   "id": "840d4230-f612-434a-8ca4-5945a1f44779",
   "metadata": {},
   "outputs": [
    {
     "name": "stdout",
     "output_type": "stream",
     "text": [
      "THIS IS HARLEM SHOOTAROUND!\n",
      "You have 5 shots to score as many points as possible.\n",
      "Each shot is worth 0, 2, or 3 points.\n",
      "\n",
      "Shot #1:\n"
     ]
    },
    {
     "name": "stdin",
     "output_type": "stream",
     "text": [
      "Are you shooting a 2-pointer or from deep? (Type '2' or '3'):  3\n"
     ]
    },
    {
     "name": "stdout",
     "output_type": "stream",
     "text": [
      "Swish! You scored 3 points!\n",
      "\n",
      "Shot #2:\n"
     ]
    },
    {
     "name": "stdin",
     "output_type": "stream",
     "text": [
      "Are you shooting a 2-pointer or from deep? (Type '2' or '3'):  3\n"
     ]
    },
    {
     "name": "stdout",
     "output_type": "stream",
     "text": [
      "Swish! You scored 3 points!\n",
      "\n",
      "Shot #3:\n"
     ]
    },
    {
     "name": "stdin",
     "output_type": "stream",
     "text": [
      "Are you shooting a 2-pointer or from deep? (Type '2' or '3'):  2\n"
     ]
    },
    {
     "name": "stdout",
     "output_type": "stream",
     "text": [
      "Swish! You scored 2 points!\n",
      "\n",
      "Shot #4:\n"
     ]
    },
    {
     "name": "stdin",
     "output_type": "stream",
     "text": [
      "Are you shooting a 2-pointer or from deep? (Type '2' or '3'):  3\n"
     ]
    },
    {
     "name": "stdout",
     "output_type": "stream",
     "text": [
      "BRICK 🧱\n",
      "\n",
      "Shot #5:\n"
     ]
    },
    {
     "name": "stdin",
     "output_type": "stream",
     "text": [
      "Are you shooting a 2-pointer or from deep? (Type '2' or '3'):  3\n"
     ]
    },
    {
     "name": "stdout",
     "output_type": "stream",
     "text": [
      "BRICK 🧱\n",
      "\n",
      "Game over! Your total score is 8 points.\n",
      "I can't lie... you are COLD! You could build a house with all those bricks! 🏚️🧱🧱\n"
     ]
    }
   ],
   "source": [
    "## Basketball Mini-Game in Python\n",
    "\n",
    "import random\n",
    "\n",
    "def shoot_hoop():\n",
    "    print(\"THIS IS HARLEM SHOOTAROUND!\")\n",
    "    print(\"You have 5 shots to score as many points as possible.\")\n",
    "    print(\"Each shot is worth 0, 2, or 3 points.\\n\")\n",
    "    \n",
    "    total_score = 0\n",
    "    \n",
    "    for shot in range(1, 6):\n",
    "        print(f\"Shot #{shot}:\")\n",
    "        distance = input(\"Are you shooting a 2-pointer or from deep? (Type '2' or '3'): \")\n",
    "        \n",
    "        if distance not in ['2', '3']:\n",
    "            print(\"Invalid input! You lose this shot.\\n\")\n",
    "            continue\n",
    "        \n",
    "        # Simulate the shot (50% chance to make it)\n",
    "        made_shot = random.choice([True, False])\n",
    "        \n",
    "        if made_shot:\n",
    "            points = int(distance)\n",
    "            total_score += points\n",
    "            print(f\"Swish! You scored {points} points!\\n\")\n",
    "        else:\n",
    "            print(\"BRICK 🧱\\n\")\n",
    "    \n",
    "    print(f\"Game over! Your total score is {total_score} points.\")\n",
    "    \n",
    "    # Bonus: Add a fun message based on the score\n",
    "    if total_score >= 10:\n",
    "        print(\"Wow, you're a basketball superstar! 🏀🔥\")\n",
    "    elif total_score >= 5:\n",
    "        print(\"I can't lie... you are COLD! You could build a house with all those bricks! 🏚️🧱🧱\")\n",
    "    else:\n",
    "        print(\"Better luck next time! 🏀\")\n",
    "\n",
    "# Run the game\n",
    "shoot_hoop()"
   ]
  },
  {
   "cell_type": "code",
   "execution_count": null,
   "id": "f1ae6489-3382-4aa1-a6f0-a3715f7fbc51",
   "metadata": {},
   "outputs": [],
   "source": []
  }
 ],
 "metadata": {
  "kernelspec": {
   "display_name": "Python 3 (ipykernel)",
   "language": "python",
   "name": "python3"
  },
  "language_info": {
   "codemirror_mode": {
    "name": "ipython",
    "version": 3
   },
   "file_extension": ".py",
   "mimetype": "text/x-python",
   "name": "python",
   "nbconvert_exporter": "python",
   "pygments_lexer": "ipython3",
   "version": "3.12.7"
  }
 },
 "nbformat": 4,
 "nbformat_minor": 5
}
