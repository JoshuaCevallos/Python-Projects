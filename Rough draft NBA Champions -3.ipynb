{
 "cells": [
  {
   "cell_type": "code",
   "execution_count": 11,
   "id": "e66ecc89-4f6c-4b30-ae00-fa32edb140cf",
   "metadata": {},
   "outputs": [
    {
     "data": {
      "application/vnd.jupyter.widget-view+json": {
       "model_id": "22c519bc48134aad83cdaec4d9eb4ef4",
       "version_major": 2,
       "version_minor": 0
      },
      "text/plain": [
       "Dropdown(description='Select Year:', options=('2000', '2001', '2002', '2003', '2004'), style=DescriptionStyle(…"
      ]
     },
     "metadata": {},
     "output_type": "display_data"
    },
    {
     "data": {
      "application/vnd.jupyter.widget-view+json": {
       "model_id": "649d13c8cd9444d092a84a22829aafc0",
       "version_major": 2,
       "version_minor": 0
      },
      "text/plain": [
       "Output()"
      ]
     },
     "metadata": {},
     "output_type": "display_data"
    }
   ],
   "source": [
    "# imports\n",
    "import pandas as pd # handles data tables, handy tool\n",
    "from IPython.display import display,HTML # shows output with html\n",
    "import ipywidgets as widgets   # builds dropdown\n",
    "\n",
    "# dropdown setup\n",
    "year_dropdown = widgets.Dropdown(options=[\"2000\",\"2001\",\"2002\",\"2003\",\"2004\"],description=\"Select Year:\",style={\"description_width\":\"initial\"}) # fixes the width of the label\n",
    "\n",
    "# output area\n",
    "output=widgets.Output() # shows tables\n",
    "\n",
    "# data is of 5 years of nba stats the more I use the more data i have to manually put in. this is rough draft\n",
    "# finals years (2000 is 1999-2000 season)\n",
    "data = {\n",
    "    \"Year\": [2000,2001,2002,2003,2004], # limited years\n",
    "    \"NBA Champion\": [\"Los Angeles Lakers\", \"Los Angeles Lakers\", \"Los Angeles Lakers\", \"San Antonio Spurs\", \"Detroit Pistons\"], # lakers dominated early\n",
    "    \"Finals MVP\": [\"Shaquille O'Neal\",\"Shaquille O'Neal\",\"Shaquille O'Neal\",\"Tim Duncan\",\"Chauncey Billups\"], # shaq crushed it\n",
    "    \"Regular Season MVP\": [\"Shaquille O'Neal\",\"Allen Iverson\",\"Tim Duncan\",\"Tim Duncan\",\"Kevin Garnett\"] # mvps from records\n",
    "    }\n",
    "\n",
    "# table creation\n",
    "main_df=pd.DataFrame(data) # converts to tables\n",
    "\n",
    "# runner ups \n",
    "# basketball-reference voting\n",
    "runner_up_data={\"Year\" : [2000,2001,2002,2003,2004],\"MVP Runner-Ups\" : [[\"Alonzo Mourning\",\"Karl Malone\",\"Kevin Garnett\"],[\"Shaquille O'Neal\",\"Tim Duncan\",\"Chris Webber\"],[\"Tracy McGrady\",\"Shaquille O'Neal\",\"Kobe Bryant\"],[\"Kevin Garnett\",\"Jermaine O'Neal\",\"Peja Stojaković\"],[\"Shaquille O'Neal\",\"Kobe Bryant\",\"Tim Duncan\"]]} # 2000 top 3 after shaq, 2001 voting results, 2002 t-mac close, 2003 verified, 2004 double-checked\n",
    "\n",
    "runner_up_df=pd.DataFrame(runner_up_data) # two tables here\n",
    "\n",
    "# debug leftover\n",
    "# print(\"main table:\",main_df)\n",
    "\n",
    "# stats function\n",
    "def show_year_info(change):\n",
    "    output.clear_output() # wipes old output\n",
    "    picked_year = change[\"new\"] # gets selected year\n",
    "    with output: # displays in output\n",
    "        if picked_year==None: # no year picked\n",
    "            display(HTML(\"<p>pick a year already!</p>\")) # prompts selection\n",
    "            return # exits if no year\n",
    "        year_number=int(picked_year) # turns year to number\n",
    "        main_row=main_df[main_df[\"Year\"]==year_number].iloc[0] # fetches main row\n",
    "        runner_up_row=runner_up_df[runner_up_df[\"Year\"]==year_number].iloc[0] # fetches runner-up row\n",
    "        \n",
    "        # main stats html\n",
    "        main_table = \"<h3>NBA Info for \"+str(year_number)+\"</h3>\" # html for main stats\n",
    "        main_table += \"<table border='1'><tr><th>Category</th><th>Details</th></tr>\"\n",
    "        main_table += \"<tr><td>NBA Champion</td><td>\"+main_row[\"NBA Champion\"]+\"</td></tr>\"\n",
    "        main_table += \"<tr><td>Finals MVP</td><td>\"+main_row[\"Finals MVP\"]+\"</td></tr>\"\n",
    "        main_table += \"<tr><td>Regular Season MVP</td><td>\"+main_row[\"Regular Season MVP\"]+\"</td></tr>\"\n",
    "        main_table += \"</table>\"\n",
    "        \n",
    "        # runner up html\n",
    "        runner_up_table=\"<h3>Top 3 MVP Runner-Ups for \"+str(year_number)+\"</h3>\" # html for runner ups\n",
    "        runner_up_table+=\"<table border='1'><tr><th>Rank</th><th>Player</th></tr>\"\n",
    "        runner_up_table+=\"<tr><td>2nd</td><td>\"+runner_up_row[\"MVP Runner-Ups\"][0]+\"</td></tr>\"\n",
    "        runner_up_table+=\"<tr><td>3rd</td><td>\"+runner_up_row[\"MVP Runner-Ups\"][1]+\"</td></tr>\"\n",
    "        runner_up_table+=\"<tr><td>4th</td><td>\"+runner_up_row[\"MVP Runner-Ups\"][2]+\"</td></tr>\"\n",
    "        runner_up_table+=\"</table>\"\n",
    "        \n",
    "        display(HTML(main_table+runner_up_table)) # combines tables\n",
    "\n",
    "# dropdown connection\n",
    "year_dropdown.observe(show_year_info,names=\"value\") # runs on year change\n",
    "\n",
    "# display elements\n",
    "display(year_dropdown) # displays dropdown and output\n",
    "display(output) # both needed\n",
    "\n",
    "# initial message\n",
    "with output:\n",
    "    display(HTML(\"<p>select a year for nba stats</p>\")) # starts it off"
   ]
  },
  {
   "cell_type": "code",
   "execution_count": null,
   "id": "ecf9799d-9442-4129-9684-745099b143af",
   "metadata": {},
   "outputs": [],
   "source": []
  }
 ],
 "metadata": {
  "kernelspec": {
   "display_name": "Python 3 (ipykernel)",
   "language": "python",
   "name": "python3"
  },
  "language_info": {
   "codemirror_mode": {
    "name": "ipython",
    "version": 3
   },
   "file_extension": ".py",
   "mimetype": "text/x-python",
   "name": "python",
   "nbconvert_exporter": "python",
   "pygments_lexer": "ipython3",
   "version": "3.12.7"
  }
 },
 "nbformat": 4,
 "nbformat_minor": 5
}
